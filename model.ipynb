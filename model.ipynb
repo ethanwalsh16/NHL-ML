{
 "cells": [
  {
   "cell_type": "markdown",
   "id": "08dab709",
   "metadata": {},
   "source": [
    "### NHL-ML \n",
    "\n",
    "Random Forest based prediction of Toronto Maple Leafs NHL games. \n",
    "Training data is in 2023, testing in 2024."
   ]
  },
  {
   "cell_type": "code",
   "execution_count": 19,
   "id": "3d997a5e",
   "metadata": {},
   "outputs": [],
   "source": [
    "import pandas as pd\n",
    "\n",
    "games = pd.read_csv(\"leafs_data.csv\")"
   ]
  },
  {
   "cell_type": "code",
   "execution_count": 20,
   "id": "e15bac7f",
   "metadata": {},
   "outputs": [
    {
     "name": "stdout",
     "output_type": "stream",
     "text": [
      "Training set shape:  (410, 110)\n",
      "Testing set shape:  (410, 110)\n",
      "Training set data:       team  season name      gameId playerTeam opposingTeam home_or_away  \\\n",
      "2680  TOR    2023  TOR  2023020005        TOR          MTL         HOME   \n",
      "2681  TOR    2023  TOR  2023020005        TOR          MTL         HOME   \n",
      "2682  TOR    2023  TOR  2023020005        TOR          MTL         HOME   \n",
      "2683  TOR    2023  TOR  2023020005        TOR          MTL         HOME   \n",
      "2684  TOR    2023  TOR  2023020005        TOR          MTL         HOME   \n",
      "\n",
      "      gameDate    position situation  ...  scoreAdjustedShotsAttemptsAgainst  \\\n",
      "2680  20231011  Team Level     other  ...                               5.00   \n",
      "2681  20231011  Team Level       all  ...                              54.75   \n",
      "2682  20231011  Team Level      5on5  ...                              43.75   \n",
      "2683  20231011  Team Level      4on5  ...                               6.00   \n",
      "2684  20231011  Team Level      5on4  ...                               0.00   \n",
      "\n",
      "      unblockedShotAttemptsAgainst  scoreAdjustedUnblockedShotAttemptsAgainst  \\\n",
      "2680                           3.0                                      3.000   \n",
      "2681                          35.0                                     37.929   \n",
      "2682                          29.0                                     31.929   \n",
      "2683                           3.0                                      3.000   \n",
      "2684                           0.0                                      0.000   \n",
      "\n",
      "      dZoneGiveawaysAgainst  xGoalsFromxReboundsOfShotsAgainst  \\\n",
      "2680                    1.0                              0.043   \n",
      "2681                    5.0                              0.374   \n",
      "2682                    4.0                              0.280   \n",
      "2683                    0.0                              0.051   \n",
      "2684                    0.0                              0.000   \n",
      "\n",
      "      xGoalsFromActualReboundsOfShotsAgainst  reboundxGoalsAgainst  \\\n",
      "2680                                   0.000                 0.000   \n",
      "2681                                   0.436                 0.436   \n",
      "2682                                   0.436                 0.436   \n",
      "2683                                   0.000                 0.000   \n",
      "2684                                   0.000                 0.000   \n",
      "\n",
      "      totalShotCreditAgainst  scoreAdjustedTotalShotCreditAgainst  \\\n",
      "2680                   0.098                                0.098   \n",
      "2681                   2.595                                2.785   \n",
      "2682                   2.014                                2.204   \n",
      "2683                   0.482                                0.482   \n",
      "2684                   0.000                                0.000   \n",
      "\n",
      "      scoreFlurryAdjustedTotalShotCreditAgainst  \n",
      "2680                                      0.098  \n",
      "2681                                      2.757  \n",
      "2682                                      2.177  \n",
      "2683                                      0.482  \n",
      "2684                                      0.000  \n",
      "\n",
      "[5 rows x 110 columns]\n",
      "Testing set data:       team  season name      gameId playerTeam opposingTeam home_or_away  \\\n",
      "3090  TOR    2024  TOR  2024020006        TOR          MTL         AWAY   \n",
      "3091  TOR    2024  TOR  2024020006        TOR          MTL         AWAY   \n",
      "3092  TOR    2024  TOR  2024020006        TOR          MTL         AWAY   \n",
      "3093  TOR    2024  TOR  2024020006        TOR          MTL         AWAY   \n",
      "3094  TOR    2024  TOR  2024020006        TOR          MTL         AWAY   \n",
      "\n",
      "      gameDate    position situation  ...  scoreAdjustedShotsAttemptsAgainst  \\\n",
      "3090  20241009  Team Level     other  ...                              2.000   \n",
      "3091  20241009  Team Level       all  ...                             48.634   \n",
      "3092  20241009  Team Level      5on5  ...                             33.634   \n",
      "3093  20241009  Team Level      4on5  ...                             12.000   \n",
      "3094  20241009  Team Level      5on4  ...                              1.000   \n",
      "\n",
      "      unblockedShotAttemptsAgainst  scoreAdjustedUnblockedShotAttemptsAgainst  \\\n",
      "3090                           1.0                                      1.000   \n",
      "3091                          32.0                                     32.674   \n",
      "3092                          21.0                                     21.674   \n",
      "3093                           9.0                                      9.000   \n",
      "3094                           1.0                                      1.000   \n",
      "\n",
      "      dZoneGiveawaysAgainst  xGoalsFromxReboundsOfShotsAgainst  \\\n",
      "3090                    0.0                              0.014   \n",
      "3091                    9.0                              0.366   \n",
      "3092                    8.0                              0.201   \n",
      "3093                    1.0                              0.145   \n",
      "3094                    0.0                              0.006   \n",
      "\n",
      "      xGoalsFromActualReboundsOfShotsAgainst  reboundxGoalsAgainst  \\\n",
      "3090                                    0.00                  0.00   \n",
      "3091                                    0.01                  0.01   \n",
      "3092                                    0.01                  0.01   \n",
      "3093                                    0.00                  0.00   \n",
      "3094                                    0.00                  0.00   \n",
      "\n",
      "      totalShotCreditAgainst  scoreAdjustedTotalShotCreditAgainst  \\\n",
      "3090                   0.110                                0.110   \n",
      "3091                   3.260                                3.255   \n",
      "3092                   1.615                                1.610   \n",
      "3093                   1.475                                1.475   \n",
      "3094                   0.060                                0.060   \n",
      "\n",
      "      scoreFlurryAdjustedTotalShotCreditAgainst  \n",
      "3090                                      0.110  \n",
      "3091                                      3.087  \n",
      "3092                                      1.597  \n",
      "3093                                      1.320  \n",
      "3094                                      0.060  \n",
      "\n",
      "[5 rows x 110 columns]\n"
     ]
    }
   ],
   "source": [
    "# Split the DataFrame into training and testing sets\n",
    "train_df = games[games['season'] == 2023]\n",
    "test_df = games[games['season'] == 2024]\n",
    "print('Training set shape: ', train_df.shape)\n",
    "print('Testing set shape: ', test_df.shape)\n",
    "print('Training set data: ', train_df.head())\n",
    "print('Testing set data: ', test_df.head())"
   ]
  },
  {
   "cell_type": "code",
   "execution_count": null,
   "id": "6b39f843",
   "metadata": {},
   "outputs": [
    {
     "ename": "ValueError",
     "evalue": "time data \"20161012\" doesn't match format \"%Y-%m-%d\", at position 0. You might want to try:\n    - passing `format` if your strings have a consistent format;\n    - passing `format='ISO8601'` if your strings are all ISO8601 but not necessarily in exactly the same format;\n    - passing `format='mixed'`, and the format will be inferred for each element individually. You might want to use `dayfirst` alongside this.",
     "output_type": "error",
     "traceback": [
      "\u001b[31m---------------------------------------------------------------------------\u001b[39m",
      "\u001b[31mValueError\u001b[39m                                Traceback (most recent call last)",
      "\u001b[36mCell\u001b[39m\u001b[36m \u001b[39m\u001b[32mIn[21]\u001b[39m\u001b[32m, line 1\u001b[39m\n\u001b[32m----> \u001b[39m\u001b[32m1\u001b[39m games[\u001b[33m\"\u001b[39m\u001b[33mgameDate\u001b[39m\u001b[33m\"\u001b[39m] = \u001b[43mpd\u001b[49m\u001b[43m.\u001b[49m\u001b[43mto_datetime\u001b[49m\u001b[43m(\u001b[49m\u001b[43mgames\u001b[49m\u001b[43m[\u001b[49m\u001b[33;43m\"\u001b[39;49m\u001b[33;43mgameDate\u001b[39;49m\u001b[33;43m\"\u001b[39;49m\u001b[43m]\u001b[49m\u001b[43m,\u001b[49m\u001b[43m \u001b[49m\u001b[38;5;28;43mformat\u001b[39;49m\u001b[43m=\u001b[49m\u001b[33;43m\"\u001b[39;49m\u001b[33;43m%\u001b[39;49m\u001b[33;43mY-\u001b[39;49m\u001b[33;43m%\u001b[39;49m\u001b[33;43mm-\u001b[39;49m\u001b[38;5;132;43;01m%d\u001b[39;49;00m\u001b[33;43m\"\u001b[39;49m\u001b[43m)\u001b[49m\n\u001b[32m      3\u001b[39m \u001b[38;5;28;01mfor\u001b[39;00m col, dtype \u001b[38;5;129;01min\u001b[39;00m df.dtypes.items():\n\u001b[32m      4\u001b[39m \t\u001b[38;5;28mprint\u001b[39m(\u001b[33mf\u001b[39m\u001b[33m\"\u001b[39m\u001b[38;5;132;01m{\u001b[39;00mcol\u001b[38;5;132;01m}\u001b[39;00m\u001b[33m: \u001b[39m\u001b[38;5;132;01m{\u001b[39;00mdtype\u001b[38;5;132;01m}\u001b[39;00m\u001b[33m\"\u001b[39m)\n",
      "\u001b[36mFile \u001b[39m\u001b[32m~/miniconda3/lib/python3.12/site-packages/pandas/core/tools/datetimes.py:1063\u001b[39m, in \u001b[36mto_datetime\u001b[39m\u001b[34m(arg, errors, dayfirst, yearfirst, utc, format, exact, unit, infer_datetime_format, origin, cache)\u001b[39m\n\u001b[32m   1061\u001b[39m             result = arg.tz_localize(\u001b[33m\"\u001b[39m\u001b[33mutc\u001b[39m\u001b[33m\"\u001b[39m)\n\u001b[32m   1062\u001b[39m \u001b[38;5;28;01melif\u001b[39;00m \u001b[38;5;28misinstance\u001b[39m(arg, ABCSeries):\n\u001b[32m-> \u001b[39m\u001b[32m1063\u001b[39m     cache_array = \u001b[43m_maybe_cache\u001b[49m\u001b[43m(\u001b[49m\u001b[43marg\u001b[49m\u001b[43m,\u001b[49m\u001b[43m \u001b[49m\u001b[38;5;28;43mformat\u001b[39;49m\u001b[43m,\u001b[49m\u001b[43m \u001b[49m\u001b[43mcache\u001b[49m\u001b[43m,\u001b[49m\u001b[43m \u001b[49m\u001b[43mconvert_listlike\u001b[49m\u001b[43m)\u001b[49m\n\u001b[32m   1064\u001b[39m     \u001b[38;5;28;01mif\u001b[39;00m \u001b[38;5;129;01mnot\u001b[39;00m cache_array.empty:\n\u001b[32m   1065\u001b[39m         result = arg.map(cache_array)\n",
      "\u001b[36mFile \u001b[39m\u001b[32m~/miniconda3/lib/python3.12/site-packages/pandas/core/tools/datetimes.py:247\u001b[39m, in \u001b[36m_maybe_cache\u001b[39m\u001b[34m(arg, format, cache, convert_listlike)\u001b[39m\n\u001b[32m    245\u001b[39m unique_dates = unique(arg)\n\u001b[32m    246\u001b[39m \u001b[38;5;28;01mif\u001b[39;00m \u001b[38;5;28mlen\u001b[39m(unique_dates) < \u001b[38;5;28mlen\u001b[39m(arg):\n\u001b[32m--> \u001b[39m\u001b[32m247\u001b[39m     cache_dates = \u001b[43mconvert_listlike\u001b[49m\u001b[43m(\u001b[49m\u001b[43munique_dates\u001b[49m\u001b[43m,\u001b[49m\u001b[43m \u001b[49m\u001b[38;5;28;43mformat\u001b[39;49m\u001b[43m)\u001b[49m\n\u001b[32m    248\u001b[39m     \u001b[38;5;66;03m# GH#45319\u001b[39;00m\n\u001b[32m    249\u001b[39m     \u001b[38;5;28;01mtry\u001b[39;00m:\n",
      "\u001b[36mFile \u001b[39m\u001b[32m~/miniconda3/lib/python3.12/site-packages/pandas/core/tools/datetimes.py:433\u001b[39m, in \u001b[36m_convert_listlike_datetimes\u001b[39m\u001b[34m(arg, format, name, utc, unit, errors, dayfirst, yearfirst, exact)\u001b[39m\n\u001b[32m    431\u001b[39m \u001b[38;5;66;03m# `format` could be inferred, or user didn't ask for mixed-format parsing.\u001b[39;00m\n\u001b[32m    432\u001b[39m \u001b[38;5;28;01mif\u001b[39;00m \u001b[38;5;28mformat\u001b[39m \u001b[38;5;129;01mis\u001b[39;00m \u001b[38;5;129;01mnot\u001b[39;00m \u001b[38;5;28;01mNone\u001b[39;00m \u001b[38;5;129;01mand\u001b[39;00m \u001b[38;5;28mformat\u001b[39m != \u001b[33m\"\u001b[39m\u001b[33mmixed\u001b[39m\u001b[33m\"\u001b[39m:\n\u001b[32m--> \u001b[39m\u001b[32m433\u001b[39m     \u001b[38;5;28;01mreturn\u001b[39;00m \u001b[43m_array_strptime_with_fallback\u001b[49m\u001b[43m(\u001b[49m\u001b[43marg\u001b[49m\u001b[43m,\u001b[49m\u001b[43m \u001b[49m\u001b[43mname\u001b[49m\u001b[43m,\u001b[49m\u001b[43m \u001b[49m\u001b[43mutc\u001b[49m\u001b[43m,\u001b[49m\u001b[43m \u001b[49m\u001b[38;5;28;43mformat\u001b[39;49m\u001b[43m,\u001b[49m\u001b[43m \u001b[49m\u001b[43mexact\u001b[49m\u001b[43m,\u001b[49m\u001b[43m \u001b[49m\u001b[43merrors\u001b[49m\u001b[43m)\u001b[49m\n\u001b[32m    435\u001b[39m result, tz_parsed = objects_to_datetime64(\n\u001b[32m    436\u001b[39m     arg,\n\u001b[32m    437\u001b[39m     dayfirst=dayfirst,\n\u001b[32m   (...)\u001b[39m\u001b[32m    441\u001b[39m     allow_object=\u001b[38;5;28;01mTrue\u001b[39;00m,\n\u001b[32m    442\u001b[39m )\n\u001b[32m    444\u001b[39m \u001b[38;5;28;01mif\u001b[39;00m tz_parsed \u001b[38;5;129;01mis\u001b[39;00m \u001b[38;5;129;01mnot\u001b[39;00m \u001b[38;5;28;01mNone\u001b[39;00m:\n\u001b[32m    445\u001b[39m     \u001b[38;5;66;03m# We can take a shortcut since the datetime64 numpy array\u001b[39;00m\n\u001b[32m    446\u001b[39m     \u001b[38;5;66;03m# is in UTC\u001b[39;00m\n",
      "\u001b[36mFile \u001b[39m\u001b[32m~/miniconda3/lib/python3.12/site-packages/pandas/core/tools/datetimes.py:467\u001b[39m, in \u001b[36m_array_strptime_with_fallback\u001b[39m\u001b[34m(arg, name, utc, fmt, exact, errors)\u001b[39m\n\u001b[32m    456\u001b[39m \u001b[38;5;28;01mdef\u001b[39;00m \u001b[34m_array_strptime_with_fallback\u001b[39m(\n\u001b[32m    457\u001b[39m     arg,\n\u001b[32m    458\u001b[39m     name,\n\u001b[32m   (...)\u001b[39m\u001b[32m    462\u001b[39m     errors: \u001b[38;5;28mstr\u001b[39m,\n\u001b[32m    463\u001b[39m ) -> Index:\n\u001b[32m    464\u001b[39m \u001b[38;5;250m    \u001b[39m\u001b[33;03m\"\"\"\u001b[39;00m\n\u001b[32m    465\u001b[39m \u001b[33;03m    Call array_strptime, with fallback behavior depending on 'errors'.\u001b[39;00m\n\u001b[32m    466\u001b[39m \u001b[33;03m    \"\"\"\u001b[39;00m\n\u001b[32m--> \u001b[39m\u001b[32m467\u001b[39m     result, tz_out = \u001b[43marray_strptime\u001b[49m\u001b[43m(\u001b[49m\u001b[43marg\u001b[49m\u001b[43m,\u001b[49m\u001b[43m \u001b[49m\u001b[43mfmt\u001b[49m\u001b[43m,\u001b[49m\u001b[43m \u001b[49m\u001b[43mexact\u001b[49m\u001b[43m=\u001b[49m\u001b[43mexact\u001b[49m\u001b[43m,\u001b[49m\u001b[43m \u001b[49m\u001b[43merrors\u001b[49m\u001b[43m=\u001b[49m\u001b[43merrors\u001b[49m\u001b[43m,\u001b[49m\u001b[43m \u001b[49m\u001b[43mutc\u001b[49m\u001b[43m=\u001b[49m\u001b[43mutc\u001b[49m\u001b[43m)\u001b[49m\n\u001b[32m    468\u001b[39m     \u001b[38;5;28;01mif\u001b[39;00m tz_out \u001b[38;5;129;01mis\u001b[39;00m \u001b[38;5;129;01mnot\u001b[39;00m \u001b[38;5;28;01mNone\u001b[39;00m:\n\u001b[32m    469\u001b[39m         unit = np.datetime_data(result.dtype)[\u001b[32m0\u001b[39m]\n",
      "\u001b[36mFile \u001b[39m\u001b[32mstrptime.pyx:501\u001b[39m, in \u001b[36mpandas._libs.tslibs.strptime.array_strptime\u001b[39m\u001b[34m()\u001b[39m\n",
      "\u001b[36mFile \u001b[39m\u001b[32mstrptime.pyx:451\u001b[39m, in \u001b[36mpandas._libs.tslibs.strptime.array_strptime\u001b[39m\u001b[34m()\u001b[39m\n",
      "\u001b[36mFile \u001b[39m\u001b[32mstrptime.pyx:583\u001b[39m, in \u001b[36mpandas._libs.tslibs.strptime._parse_with_format\u001b[39m\u001b[34m()\u001b[39m\n",
      "\u001b[31mValueError\u001b[39m: time data \"20161012\" doesn't match format \"%Y-%m-%d\", at position 0. You might want to try:\n    - passing `format` if your strings have a consistent format;\n    - passing `format='ISO8601'` if your strings are all ISO8601 but not necessarily in exactly the same format;\n    - passing `format='mixed'`, and the format will be inferred for each element individually. You might want to use `dayfirst` alongside this."
     ]
    }
   ],
   "source": [
    "\n"
   ]
  }
 ],
 "metadata": {
  "kernelspec": {
   "display_name": "base",
   "language": "python",
   "name": "python3"
  },
  "language_info": {
   "codemirror_mode": {
    "name": "ipython",
    "version": 3
   },
   "file_extension": ".py",
   "mimetype": "text/x-python",
   "name": "python",
   "nbconvert_exporter": "python",
   "pygments_lexer": "ipython3",
   "version": "3.12.9"
  }
 },
 "nbformat": 4,
 "nbformat_minor": 5
}
